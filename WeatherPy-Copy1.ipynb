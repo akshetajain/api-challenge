{
 "cells": [
  {
   "cell_type": "markdown",
   "metadata": {},
   "source": [
    "# WeatherPy\n",
    "----\n",
    "\n",
    "#### Note\n",
    "* Instructions have been included for each segment. You do not have to follow them exactly, but they are included to help you think through the steps."
   ]
  },
  {
   "cell_type": "code",
   "execution_count": 1,
   "metadata": {
    "scrolled": true
   },
   "outputs": [],
   "source": [
    "# Dependencies and Setup\n",
    "import matplotlib.pyplot as plt\n",
    "import pandas as pd\n",
    "import numpy as np\n",
    "import requests\n",
    "import time\n",
    "import json\n",
    "from scipy.stats import linregress\n",
    "\n",
    "# Import API key\n",
    "from api_keys import weather_api_key\n",
    "\n",
    "# Incorporated citipy to determine city based on latitude and longitude\n",
    "from citipy import citipy\n",
    "\n",
    "# Output File (CSV)\n",
    "output_data_file = \"output_data/cities.csv\"\n",
    "\n",
    "# Range of latitudes and longitudes\n",
    "lat_range = (-90, 90)\n",
    "lng_range = (-180, 180)"
   ]
  },
  {
   "cell_type": "code",
   "execution_count": 2,
   "metadata": {},
   "outputs": [
    {
     "data": {
      "text/plain": [
       "'794767f25cd9a02748edac688c519384'"
      ]
     },
     "execution_count": 2,
     "metadata": {},
     "output_type": "execute_result"
    }
   ],
   "source": [
    "weather_api_key"
   ]
  },
  {
   "cell_type": "markdown",
   "metadata": {},
   "source": [
    "## Generate Cities List"
   ]
  },
  {
   "cell_type": "code",
   "execution_count": 3,
   "metadata": {},
   "outputs": [
    {
     "data": {
      "text/plain": [
       "643"
      ]
     },
     "execution_count": 3,
     "metadata": {},
     "output_type": "execute_result"
    }
   ],
   "source": [
    "# List for holding lat_lngs and cities\n",
    "lat_lngs = []\n",
    "cities = []\n",
    "\n",
    "# Create a set of random lat and lng combinations\n",
    "lats = np.random.uniform(lat_range[0], lat_range[1], size=1500)\n",
    "lngs = np.random.uniform(lng_range[0], lng_range[1], size=1500)\n",
    "lat_lngs = zip(lats, lngs)\n",
    "\n",
    "# Identify nearest city for each lat, lng combination\n",
    "for lat_lng in lat_lngs:\n",
    "    city = citipy.nearest_city(lat_lng[0], lat_lng[1]).city_name\n",
    "    \n",
    "    # If the city is unique, then add it to a our cities list\n",
    "    if city not in cities:\n",
    "        cities.append(city)\n",
    "\n",
    "# Print the city count to confirm sufficient count\n",
    "len(cities)"
   ]
  },
  {
   "cell_type": "markdown",
   "metadata": {},
   "source": [
    "### Perform API Calls\n",
    "* Perform a weather check on each city using a series of successive API calls.\n",
    "* Include a print log of each city as it'sbeing processed (with the city number and city name).\n"
   ]
  },
  {
   "cell_type": "code",
   "execution_count": 4,
   "metadata": {
    "scrolled": true
   },
   "outputs": [
    {
     "name": "stdout",
     "output_type": "stream",
     "text": [
      "['hermanus', 'kralendijk', 'tera', 'dikson', 'sorvag', 'mataura', 'puerto ayora', 'albany', 'fairbanks', 'kapaa', 'vardo', 'nome', 'arraial do cabo', 'phalodi', 'verkhoyansk', 'upernavik', 'barrow', 'marcona', 'ribeira grande', 'saint-philippe', 'tasiilaq', 'hofn', 'lorengau', 'dingle', 'atuona', 'bogande', 'busselton', 'saleaula', 'rikitea', 'sola', 'halalo', 'touros', 'anadyr', 'daru', 'lagos', 'manzil salim', 'hobart', 'belushya guba', 'bethel', 'luderitz', 'sinnamary', 'punta arenas', 'ambunti', 'ponta do sol', 'hambantota', 'toliary', 'hithadhoo', 'praxedis guerrero', 'bulembu', 'bambous virieux', 'san patricio', 'santa cruz', 'severo-kurilsk', 'new norfolk', 'castro', 'kodiak', 'ushuaia', 'jamestown', 'voh', 'coihaique', 'klaksvik', 'victoria', 'leopold', 'vagur', 'boden', 'jati', 'galveston', 'frontera', 'okhotsk', 'san cristobal', 'akyab', 'narsaq', 'chokurdakh', 'kaitangata', 'hilo', 'kalengwa', 'vao', 'taquara', 'lokosovo', 'kutum', 'takapau', 'maneadero', 'burnie', 'houma', 'hasaki', 'fez', 'acarau', 'barentsburg', 'cabo san lucas', 'bluff', 'santa rita', 'illoqqortoormiut', 'qaanaaq', 'hamilton', 'lebu', 'palia kalan', 'cam pha', 'abha', 'faya', 'port alfred', 'tabiauea', 'codrington', 'ballina', 'kurchanskaya', 'tumannyy', 'kavieng', 'vaini', 'lolua', 'sao jose da coroa grande', 'petropavlovsk-kamchatskiy', 'thompson', 'xingyi', 'cherskiy', 'aswan', 'yellowknife', 'esperance', 'temaraia', 'port blair', 'rabo de peixe', 'quatre cocos', 'muroto', 'cayenne', 'salalah', 'oranjemund', 'balta', 'ust-kamchatsk', 'acapulco', 'khatanga', 'jarjis', 'khandyga', 'butaritari', 'moron', 'viedma', 'port-cartier', 'cap malheureux', 'nizhniy tsasuchey', 'nemuro', 'pokhara', 'avarua', 'ostrovnoy', 'cape town', 'jalu', 'plettenberg bay', 'hecun', 'amos', 'souillac', 'taolanaro', 'richards bay', 'kavant', 'zimapan', 'walvis bay', 'raudeberg', 'raymond terrace', 'dicabisagan', 'yomitan', 'grand river south east', 'tiksi', 'aktash', 'dzhebariki-khaya', 'bredasdorp', 'tuy hoa', 'portland', 'kandiari', 'aklavik', 'lavrentiya', 'kapit', 'ancud', 'tadine', 'puerto escondido', 'sandpoint', 'verkhniy baskunchak', 'gizo', 'dunedin', 'auburndale', 'saldanha', 'flinders', 'warrnambool', 'batagay-alyta', 'carnarvon', 'longyearbyen', 'beringovskiy', 'vanimo', 'yar-sale', 'egvekinot', 'maryville', 'tuggurt', 'amderma', 'matina', 'padang', 'sibolga', 'majene', 'omama', 'clyde river', 'nizhneyansk', 'kargopol', 'guerrero negro', 'atbasar', 'caravelas', 'harper', 'port shepstone', 'laguna', 'leshukonskoye', 'kidal', 'pisco', 'jashpurnagar', 'bardiyah', 'serenje', 'georgetown', 'east london', 'rocha', 'lagoa', 'kotdwara', 'erzin', 'ban nahin', 'smithers', 'provideniya', 'simao', 'broome', 'pevek', 'tautira', 'bilibino', 'karamea', 'athabasca', 'bentong', 'gamba', 'katsuura', 'baghdad', 'iqaluit', 'nikolskoye', 'constitucion', 'onega', 'klenovyy', 'dawei', 'belmonte', 'kardamaina', 'akola', 'bathsheba', 'katiola', 'saint-pierre', 'stoyba', 'tingi', 'tazovskiy', 'vrangel', 'tommot', 'ambon', 'tansen', 'olinda', 'airai', 'qeshm', 'ahuimanu', 'wanning', 'alofi', 'mulege', 'new waterford', 'brae', 'mao', 'cidreira', 'siguiri', 'kargasok', 'kuche', 'muros', 'tairua', 'sentyabrskiy', 'stamsund', 'half moon bay', 'tuktoyaktuk', 'sumbawa', 'yulara', 'sanmenxia', 'marondera', 'vila', 'matadi', 'hargeysa', 'adrar', 'nakhon phanom', 'sumenep', 'bosobolo', 'gat', 'vaitupu', 'timizart', 'kazalinsk', 'kamenka', 'college', 'pointe michel', 'norman wells', 'soyo', 'mar del plata', 'dauriya', 'shenjiamen', 'imbituba', 'thunder bay', 'namtsy', 'linxia', 'rupert', 'ko samui', 'mount isa', 'kyren', 'biu', 'umzimvubu', 'ust-maya', 'lazaro cardenas', 'bequimao', 'kahului', 'cariati', 'manggar', 'kings mountain', 'tabou', 'tokonou', 'dongsheng', 'necochea', 'te anau', 'sangar', 'lieksa', 'khlung', 'hutchinson', 'lata', 'belaya gora', 'timaru', 'aasiaat', 'jian', 'embonas', 'geraldton', 'atar', 'coracao de jesus', 'andenes', 'washington', 'sitka', 'pangnirtung', 'fortuna', 'naze', 'eydhafushi', 'bengkulu', 'mount gambier', 'tezu', 'shaoyang', 'tsihombe', 'karasburg', 'luanda', 'anakapalle', 'goderich', 'karpogory', 'isangel', 'christchurch', 'sedro-woolley', 'mweka', 'lakeland highlands', 'buala', 'saint-augustin', 'san andres', 'teguise', 'gashua', 'paka', 'saskylakh', 'lompoc', 'chuy', 'andevoranto', 'camacha', 'khorixas', 'vuktyl', 'rio grande', 'lerik', 'todos santos', 'margate', 'ilulissat', 'attawapiskat', 'sao joao da barra', 'chapais', 'batagay', 'tidore', 'huazhou', 'beni', 'ondjiva', 'cusuna', 'lufilufi', 'itoman', 'charters towers', 'blandiana', 'pacific grove', 'pangai', 'guaymas', 'kruisfontein', 'karratha', 'praia', 'umm durman', 'lang suan', 'sioux lookout', 'nerchinskiy zavod', 'barentu', 'ust-kut', 'kampot', 'kijang', 'bonao', 'stawell', 'tara', 'tubuala', 'along', 'wahran', 'skelleftea', 'vila velha', 'haines junction', 'la ronge', 'cairns', 'balangiga', 'husavik', 'zhicheng', 'bitkine', 'tallahassee', 'hokitika', 'honiara', 'ati', 'omboue', 'tiarei', 'mys shmidta', 'kikwit', 'mogadishu', 'portsmouth', 'hammerfest', 'kosa', 'sembe', 'dobsina', 'ulladulla', 'yirol', 'hohhot', 'anar darreh', 'bouafle', 'tuatapere', 'whitehorse', 'sidi ali', 'altay', 'vila praia de ancora', 'el zulia', 'warqla', 'zhigansk', 'moyale', 'launceston', 'cockburn harbour', 'yanam', 'shadegan', 'kuchinarai', 'conceicao das alagoas', 'aksarka', 'carutapera', 'dzilam gonzalez', 'pijijiapan', 'mareeba', 'eskilstuna', 'mahebourg', 'karakol', 'diamantino', 'amantea', 'pucallpa', 'rorvik', 'kyshtovka', 'road town', 'mocambique', 'mandalgovi', 'ceres', 'novaya igirma', 'comodoro rivadavia', 'palabuhanratu', 'rodrigues alves', 'leo', 'makakilo city', 'san lazaro', 'steamboat springs', 'saint anthony', 'kalmunai', 'mushie', 'tateyama', 'taltal', 'loreto', 'freeport', 'ratnagiri', 'krasnoselkup', 'cockburn town', 'arvi', 'chulman', 'namie', 'port hardy', 'rio gallegos', 'thung song', 'qasigiannguit', 'phan rang', 'sherbakul', 'kupang', 'cape elizabeth', 'tilichiki', 'coquimbo', 'darhan', 'bud', 'melito di porto salvo', 'riyadh', 'minsk', 'itaituba', 'vestmannaeyjar', 'tyler', 'vila franca do campo', 'sovetskoye', 'abhar', 'sedalia', 'jiuquan', 'kimbe', 'port elizabeth', 'tatawin', 'ambam', 'agha jari', 'inhambane', 'catamarca', 'maragogi', 'wuwei', 'tukrah', 'scottsbluff', 'fowa', 'tres arroyos', 'kyra', 'sorland', 'susaki', 'ambodifototra', 'roebourne', 'kristiinankaupunki', 'faanui', 'meulaboh', 'anloga', 'danielskuil', 'uvarovo', 'comarapa', 'port hedland', 'mendota', 'kalianget', 'tahoua', 'areosa', 'grand-santi', 'lundamo', 'odesskoye', 'yenagoa', 'el alto', 'felanitx', 'riberalta', 'methoni', 'auki', 'haapu', 'namibe', 'neuquen', 'lingyuan', 'kuytun', 'komsomolskiy', 'tarakan', 'yoichi', 'waipawa', 'preobrazheniye', 'borogontsy', 'pavilosta', 'nedjo', 'pirot', 'juba', 'puerto el triunfo', 'sahuaripa', 'saint george', 'griffith', 'el seibo', 'grindavik', 'ondangwa', 'imamoglu', 'kailua', 'tacuarembo', 'campos novos', 'almenara', 'tapaua', 'magadan', 'puerto pinasco', 'bairiki', 'los llanos de aridane', 'port lincoln', 'torbat-e jam', 'bolshiye kolpany', 'nouadhibou', 'sao geraldo do araguaia', 'marystown', 'knyaze-volkonskoye', 'werota', 'ladario', 'platteville', 'torbay', 'wakkanai', 'gremyachinsk', 'kavaratti', 'tabukiniberu', 'samusu', 'dong xoai', 'matay', 'fort frances', 'puerto baquerizo moreno', 'coahuayana', 'saint-ambroise', 'sao pedro do sul', 'bom jardim', 'kargat', 'taoudenni', 'sur', 'eenhana', 'huarmey', 'santa rosa', 'casas grandes', 'havelock', 'abalak', 'katete', 'angoche', 'hirado', 'westport', 'turner', 'ouesso', 'xichang', 'ziyang', 'presidente dutra', 'mbandaka', 'beloha', 'bryan', 'chicama', 'kostomuksha', 'shatsk', 'bonavista', 'svay rieng', 'nguiu', 'oni', 'ust-omchug', 'basco', 'lisakovsk', 'phnum penh', 'morondava', 'carbonia', 'granville', 'solovetskiy', 'manakara', 'merauke', 'mayo', 'bua yai', 'abu dhabi', 'pemangkat', 'florianopolis', 'korla', 'camana', 'chagda', 'north bend']\n"
     ]
    }
   ],
   "source": [
    "print(cities)"
   ]
  },
  {
   "cell_type": "code",
   "execution_count": 5,
   "metadata": {},
   "outputs": [
    {
     "name": "stdout",
     "output_type": "stream",
     "text": [
      "{\n",
      "    \"base\": \"stations\",\n",
      "    \"clouds\": {\n",
      "        \"all\": 83\n",
      "    },\n",
      "    \"cod\": 200,\n",
      "    \"coord\": {\n",
      "        \"lat\": -34.4187,\n",
      "        \"lon\": 19.2345\n",
      "    },\n",
      "    \"dt\": 1615350071,\n",
      "    \"id\": 3366880,\n",
      "    \"main\": {\n",
      "        \"feels_like\": 72.9,\n",
      "        \"humidity\": 74,\n",
      "        \"pressure\": 1002,\n",
      "        \"temp\": 73,\n",
      "        \"temp_max\": 73,\n",
      "        \"temp_min\": 73\n",
      "    },\n",
      "    \"name\": \"Hermanus\",\n",
      "    \"rain\": {\n",
      "        \"1h\": 0.16\n",
      "    },\n",
      "    \"sys\": {\n",
      "        \"country\": \"ZA\",\n",
      "        \"id\": 2006131,\n",
      "        \"sunrise\": 1615351097,\n",
      "        \"sunset\": 1615396116,\n",
      "        \"type\": 3\n",
      "    },\n",
      "    \"timezone\": 7200,\n",
      "    \"visibility\": 10000,\n",
      "    \"weather\": [\n",
      "        {\n",
      "            \"description\": \"light rain\",\n",
      "            \"icon\": \"10n\",\n",
      "            \"id\": 500,\n",
      "            \"main\": \"Rain\"\n",
      "        }\n",
      "    ],\n",
      "    \"wind\": {\n",
      "        \"deg\": 314,\n",
      "        \"gust\": 21,\n",
      "        \"speed\": 8.99\n",
      "    }\n",
      "}\n"
     ]
    }
   ],
   "source": [
    "url = \"http://api.openweathermap.org/data/2.5/weather?units=Imperial&APPID=\" + weather_api_key\n",
    "url2 = url + \"&q=\" + cities[0]\n",
    "\n",
    "response = requests.get(url2).json()\n",
    "print(json.dumps(response, indent=4, sort_keys=True))"
   ]
  },
  {
   "cell_type": "code",
   "execution_count": 6,
   "metadata": {
    "scrolled": true
   },
   "outputs": [
    {
     "data": {
      "text/plain": [
       "dict_keys(['coord', 'weather', 'base', 'main', 'visibility', 'wind', 'rain', 'clouds', 'dt', 'sys', 'timezone', 'id', 'name', 'cod'])"
      ]
     },
     "execution_count": 6,
     "metadata": {},
     "output_type": "execute_result"
    }
   ],
   "source": [
    "response.keys()"
   ]
  },
  {
   "cell_type": "code",
   "execution_count": 7,
   "metadata": {},
   "outputs": [
    {
     "name": "stdout",
     "output_type": "stream",
     "text": [
      "sorvag\n",
      "marcona\n",
      "saleaula\n",
      "halalo\n",
      "belushya guba\n",
      "toliary\n",
      "barentsburg\n",
      "illoqqortoormiut\n",
      "cam pha\n",
      "tabiauea\n",
      "tumannyy\n",
      "lolua\n",
      "temaraia\n",
      "ust-kamchatsk\n",
      "jarjis\n",
      "taolanaro\n",
      "kavant\n",
      "yomitan\n",
      "grand river south east\n",
      "tuggurt\n",
      "amderma\n",
      "nizhneyansk\n",
      "karamea\n",
      "stoyba\n",
      "kuche\n",
      "sentyabrskiy\n",
      "stamsund\n",
      "sumbawa\n",
      "vaitupu\n",
      "kazalinsk\n",
      "umzimvubu\n",
      "tsihombe\n",
      "andevoranto\n",
      "attawapiskat\n",
      "tidore\n",
      "umm durman\n",
      "wahran\n",
      "mys shmidta\n",
      "yirol\n",
      "anar darreh\n",
      "warqla\n",
      "cockburn harbour\n",
      "mocambique\n",
      "palabuhanratu\n",
      "phan rang\n",
      "cape elizabeth\n",
      "agha jari\n",
      "ambodifototra\n",
      "haapu\n",
      "tapaua\n",
      "puerto pinasco\n",
      "bolshiye kolpany\n",
      "tabukiniberu\n",
      "samusu\n",
      "nguiu\n",
      "phnum penh\n",
      "solovetskiy\n",
      "chagda\n"
     ]
    }
   ],
   "source": [
    "# url = \"http://api.openweathermap.org/data/2.5/weather?units=Imperial&APPID=\" + weather_api_key\n",
    "# url2 = url + \"&q=\" + cities[0]\n",
    "\n",
    "# response = requests.get(url2).json()\n",
    "# print(json.dumps(response, indent=4, sort_keys=True))\n",
    "\n",
    "list = []\n",
    "\n",
    "for city in cities:\n",
    "    try:\n",
    "        url = \"http://api.openweathermap.org/data/2.5/weather?units=Imperial&APPID=\" + weather_api_key\n",
    "        url2 = url + \"&q=\" + city\n",
    "        response = requests.get(url2).json()\n",
    "        latitude = response[\"coord\"][\"lat\"]\n",
    "        longitude = response[\"coord\"][\"lon\"]\n",
    "        temperature = response[\"main\"][\"temp_max\"]\n",
    "        cloudiness = response[\"clouds\"][\"all\"]\n",
    "        humidity = response[\"main\"][\"humidity\"]\n",
    "        wind = response[\"wind\"][\"speed\"]\n",
    "        country = response[\"sys\"][\"country\"]\n",
    "        dictionary = {\"City Name\" : city,\n",
    "                      \"Latitude\" : latitude,\n",
    "                      \"Longitude\" : longitude,\n",
    "                      \"Temperature\" : temperature,\n",
    "                      \"Cloudiness\" : cloudiness,\n",
    "                      \"Humidity\" : humidity,\n",
    "                      \"Wind Speed\" : wind,\n",
    "                      \"Country\": country\n",
    "                     }\n",
    "    \n",
    "        list.append(dictionary)\n",
    "    except:\n",
    "        print(city)\n"
   ]
  },
  {
   "cell_type": "markdown",
   "metadata": {},
   "source": [
    "### Convert Raw Data to DataFrame\n",
    "* Export the city data into a .csv.\n",
    "* Display the DataFrame"
   ]
  },
  {
   "cell_type": "code",
   "execution_count": 13,
   "metadata": {},
   "outputs": [
    {
     "data": {
      "text/html": [
       "<div>\n",
       "<style scoped>\n",
       "    .dataframe tbody tr th:only-of-type {\n",
       "        vertical-align: middle;\n",
       "    }\n",
       "\n",
       "    .dataframe tbody tr th {\n",
       "        vertical-align: top;\n",
       "    }\n",
       "\n",
       "    .dataframe thead th {\n",
       "        text-align: right;\n",
       "    }\n",
       "</style>\n",
       "<table border=\"1\" class=\"dataframe\">\n",
       "  <thead>\n",
       "    <tr style=\"text-align: right;\">\n",
       "      <th></th>\n",
       "      <th>City Name</th>\n",
       "      <th>Latitude</th>\n",
       "      <th>Longitude</th>\n",
       "      <th>Temperature</th>\n",
       "      <th>Cloudiness</th>\n",
       "      <th>Humidity</th>\n",
       "      <th>Wind Speed</th>\n",
       "      <th>Country</th>\n",
       "    </tr>\n",
       "  </thead>\n",
       "  <tbody>\n",
       "    <tr>\n",
       "      <th>0</th>\n",
       "      <td>hermanus</td>\n",
       "      <td>-34.4187</td>\n",
       "      <td>19.2345</td>\n",
       "      <td>73.00</td>\n",
       "      <td>83</td>\n",
       "      <td>74</td>\n",
       "      <td>8.99</td>\n",
       "      <td>ZA</td>\n",
       "    </tr>\n",
       "    <tr>\n",
       "      <th>1</th>\n",
       "      <td>kralendijk</td>\n",
       "      <td>12.1500</td>\n",
       "      <td>-68.2667</td>\n",
       "      <td>77.00</td>\n",
       "      <td>20</td>\n",
       "      <td>78</td>\n",
       "      <td>8.05</td>\n",
       "      <td>BQ</td>\n",
       "    </tr>\n",
       "    <tr>\n",
       "      <th>2</th>\n",
       "      <td>tera</td>\n",
       "      <td>14.0078</td>\n",
       "      <td>0.7531</td>\n",
       "      <td>80.20</td>\n",
       "      <td>24</td>\n",
       "      <td>16</td>\n",
       "      <td>5.64</td>\n",
       "      <td>NE</td>\n",
       "    </tr>\n",
       "    <tr>\n",
       "      <th>3</th>\n",
       "      <td>dikson</td>\n",
       "      <td>73.5069</td>\n",
       "      <td>80.5464</td>\n",
       "      <td>-22.32</td>\n",
       "      <td>100</td>\n",
       "      <td>88</td>\n",
       "      <td>8.97</td>\n",
       "      <td>RU</td>\n",
       "    </tr>\n",
       "    <tr>\n",
       "      <th>4</th>\n",
       "      <td>mataura</td>\n",
       "      <td>-46.1927</td>\n",
       "      <td>168.8643</td>\n",
       "      <td>55.99</td>\n",
       "      <td>93</td>\n",
       "      <td>79</td>\n",
       "      <td>11.01</td>\n",
       "      <td>NZ</td>\n",
       "    </tr>\n",
       "  </tbody>\n",
       "</table>\n",
       "</div>"
      ],
      "text/plain": [
       "    City Name  Latitude  Longitude  Temperature  Cloudiness  Humidity  \\\n",
       "0    hermanus  -34.4187    19.2345        73.00          83        74   \n",
       "1  kralendijk   12.1500   -68.2667        77.00          20        78   \n",
       "2        tera   14.0078     0.7531        80.20          24        16   \n",
       "3      dikson   73.5069    80.5464       -22.32         100        88   \n",
       "4     mataura  -46.1927   168.8643        55.99          93        79   \n",
       "\n",
       "   Wind Speed Country  \n",
       "0        8.99      ZA  \n",
       "1        8.05      BQ  \n",
       "2        5.64      NE  \n",
       "3        8.97      RU  \n",
       "4       11.01      NZ  "
      ]
     },
     "execution_count": 13,
     "metadata": {},
     "output_type": "execute_result"
    }
   ],
   "source": [
    "weather_df = pd.DataFrame(list)\n",
    "weather_df.count()\n",
    "weather_df.head()"
   ]
  },
  {
   "cell_type": "markdown",
   "metadata": {},
   "source": [
    "## Inspect the data and remove the cities where the humidity > 100%.\n",
    "----\n",
    "Skip this step if there are no cities that have humidity > 100%. "
   ]
  },
  {
   "cell_type": "code",
   "execution_count": 15,
   "metadata": {
    "scrolled": true
   },
   "outputs": [
    {
     "data": {
      "text/html": [
       "<div>\n",
       "<style scoped>\n",
       "    .dataframe tbody tr th:only-of-type {\n",
       "        vertical-align: middle;\n",
       "    }\n",
       "\n",
       "    .dataframe tbody tr th {\n",
       "        vertical-align: top;\n",
       "    }\n",
       "\n",
       "    .dataframe thead th {\n",
       "        text-align: right;\n",
       "    }\n",
       "</style>\n",
       "<table border=\"1\" class=\"dataframe\">\n",
       "  <thead>\n",
       "    <tr style=\"text-align: right;\">\n",
       "      <th></th>\n",
       "      <th>Latitude</th>\n",
       "      <th>Longitude</th>\n",
       "      <th>Temperature</th>\n",
       "      <th>Cloudiness</th>\n",
       "      <th>Humidity</th>\n",
       "      <th>Wind Speed</th>\n",
       "    </tr>\n",
       "  </thead>\n",
       "  <tbody>\n",
       "    <tr>\n",
       "      <th>count</th>\n",
       "      <td>585.000000</td>\n",
       "      <td>585.000000</td>\n",
       "      <td>585.000000</td>\n",
       "      <td>585.000000</td>\n",
       "      <td>585.00000</td>\n",
       "      <td>585.000000</td>\n",
       "    </tr>\n",
       "    <tr>\n",
       "      <th>mean</th>\n",
       "      <td>18.594154</td>\n",
       "      <td>19.151679</td>\n",
       "      <td>55.116342</td>\n",
       "      <td>49.709402</td>\n",
       "      <td>70.91453</td>\n",
       "      <td>7.957675</td>\n",
       "    </tr>\n",
       "    <tr>\n",
       "      <th>std</th>\n",
       "      <td>33.262484</td>\n",
       "      <td>92.636965</td>\n",
       "      <td>28.319366</td>\n",
       "      <td>39.160991</td>\n",
       "      <td>21.15038</td>\n",
       "      <td>6.125145</td>\n",
       "    </tr>\n",
       "    <tr>\n",
       "      <th>min</th>\n",
       "      <td>-54.800000</td>\n",
       "      <td>-179.166700</td>\n",
       "      <td>-30.930000</td>\n",
       "      <td>0.000000</td>\n",
       "      <td>1.00000</td>\n",
       "      <td>0.430000</td>\n",
       "    </tr>\n",
       "    <tr>\n",
       "      <th>25%</th>\n",
       "      <td>-8.145000</td>\n",
       "      <td>-62.996700</td>\n",
       "      <td>39.200000</td>\n",
       "      <td>3.000000</td>\n",
       "      <td>59.00000</td>\n",
       "      <td>3.440000</td>\n",
       "    </tr>\n",
       "    <tr>\n",
       "      <th>50%</th>\n",
       "      <td>21.444700</td>\n",
       "      <td>21.376000</td>\n",
       "      <td>64.060000</td>\n",
       "      <td>46.000000</td>\n",
       "      <td>76.00000</td>\n",
       "      <td>6.260000</td>\n",
       "    </tr>\n",
       "    <tr>\n",
       "      <th>75%</th>\n",
       "      <td>45.020500</td>\n",
       "      <td>102.817000</td>\n",
       "      <td>76.170000</td>\n",
       "      <td>90.000000</td>\n",
       "      <td>88.00000</td>\n",
       "      <td>10.360000</td>\n",
       "    </tr>\n",
       "    <tr>\n",
       "      <th>max</th>\n",
       "      <td>78.218600</td>\n",
       "      <td>179.316700</td>\n",
       "      <td>102.200000</td>\n",
       "      <td>100.000000</td>\n",
       "      <td>100.00000</td>\n",
       "      <td>45.430000</td>\n",
       "    </tr>\n",
       "  </tbody>\n",
       "</table>\n",
       "</div>"
      ],
      "text/plain": [
       "         Latitude   Longitude  Temperature  Cloudiness   Humidity  Wind Speed\n",
       "count  585.000000  585.000000   585.000000  585.000000  585.00000  585.000000\n",
       "mean    18.594154   19.151679    55.116342   49.709402   70.91453    7.957675\n",
       "std     33.262484   92.636965    28.319366   39.160991   21.15038    6.125145\n",
       "min    -54.800000 -179.166700   -30.930000    0.000000    1.00000    0.430000\n",
       "25%     -8.145000  -62.996700    39.200000    3.000000   59.00000    3.440000\n",
       "50%     21.444700   21.376000    64.060000   46.000000   76.00000    6.260000\n",
       "75%     45.020500  102.817000    76.170000   90.000000   88.00000   10.360000\n",
       "max     78.218600  179.316700   102.200000  100.000000  100.00000   45.430000"
      ]
     },
     "execution_count": 15,
     "metadata": {},
     "output_type": "execute_result"
    }
   ],
   "source": [
    "weather_df.describe()"
   ]
  },
  {
   "cell_type": "code",
   "execution_count": 28,
   "metadata": {},
   "outputs": [
    {
     "data": {
      "text/plain": [
       "Int64Index([], dtype='int64')"
      ]
     },
     "execution_count": 28,
     "metadata": {},
     "output_type": "execute_result"
    }
   ],
   "source": [
    "#  Get the indices of cities that have humidity over 100%.\n",
    "weather_df_2 = weather_df[(weather_df[\"Humidity\"]>100)].index\n",
    "weather_df_2"
   ]
  },
  {
   "cell_type": "code",
   "execution_count": 29,
   "metadata": {
    "scrolled": true
   },
   "outputs": [
    {
     "data": {
      "text/html": [
       "<div>\n",
       "<style scoped>\n",
       "    .dataframe tbody tr th:only-of-type {\n",
       "        vertical-align: middle;\n",
       "    }\n",
       "\n",
       "    .dataframe tbody tr th {\n",
       "        vertical-align: top;\n",
       "    }\n",
       "\n",
       "    .dataframe thead th {\n",
       "        text-align: right;\n",
       "    }\n",
       "</style>\n",
       "<table border=\"1\" class=\"dataframe\">\n",
       "  <thead>\n",
       "    <tr style=\"text-align: right;\">\n",
       "      <th></th>\n",
       "      <th>Latitude</th>\n",
       "      <th>Longitude</th>\n",
       "      <th>Temperature</th>\n",
       "      <th>Cloudiness</th>\n",
       "      <th>Humidity</th>\n",
       "      <th>Wind Speed</th>\n",
       "    </tr>\n",
       "  </thead>\n",
       "  <tbody>\n",
       "    <tr>\n",
       "      <th>count</th>\n",
       "      <td>585.000000</td>\n",
       "      <td>585.000000</td>\n",
       "      <td>585.000000</td>\n",
       "      <td>585.000000</td>\n",
       "      <td>585.00000</td>\n",
       "      <td>585.000000</td>\n",
       "    </tr>\n",
       "    <tr>\n",
       "      <th>mean</th>\n",
       "      <td>18.594154</td>\n",
       "      <td>19.151679</td>\n",
       "      <td>55.116342</td>\n",
       "      <td>49.709402</td>\n",
       "      <td>70.91453</td>\n",
       "      <td>7.957675</td>\n",
       "    </tr>\n",
       "    <tr>\n",
       "      <th>std</th>\n",
       "      <td>33.262484</td>\n",
       "      <td>92.636965</td>\n",
       "      <td>28.319366</td>\n",
       "      <td>39.160991</td>\n",
       "      <td>21.15038</td>\n",
       "      <td>6.125145</td>\n",
       "    </tr>\n",
       "    <tr>\n",
       "      <th>min</th>\n",
       "      <td>-54.800000</td>\n",
       "      <td>-179.166700</td>\n",
       "      <td>-30.930000</td>\n",
       "      <td>0.000000</td>\n",
       "      <td>1.00000</td>\n",
       "      <td>0.430000</td>\n",
       "    </tr>\n",
       "    <tr>\n",
       "      <th>25%</th>\n",
       "      <td>-8.145000</td>\n",
       "      <td>-62.996700</td>\n",
       "      <td>39.200000</td>\n",
       "      <td>3.000000</td>\n",
       "      <td>59.00000</td>\n",
       "      <td>3.440000</td>\n",
       "    </tr>\n",
       "    <tr>\n",
       "      <th>50%</th>\n",
       "      <td>21.444700</td>\n",
       "      <td>21.376000</td>\n",
       "      <td>64.060000</td>\n",
       "      <td>46.000000</td>\n",
       "      <td>76.00000</td>\n",
       "      <td>6.260000</td>\n",
       "    </tr>\n",
       "    <tr>\n",
       "      <th>75%</th>\n",
       "      <td>45.020500</td>\n",
       "      <td>102.817000</td>\n",
       "      <td>76.170000</td>\n",
       "      <td>90.000000</td>\n",
       "      <td>88.00000</td>\n",
       "      <td>10.360000</td>\n",
       "    </tr>\n",
       "    <tr>\n",
       "      <th>max</th>\n",
       "      <td>78.218600</td>\n",
       "      <td>179.316700</td>\n",
       "      <td>102.200000</td>\n",
       "      <td>100.000000</td>\n",
       "      <td>100.00000</td>\n",
       "      <td>45.430000</td>\n",
       "    </tr>\n",
       "  </tbody>\n",
       "</table>\n",
       "</div>"
      ],
      "text/plain": [
       "         Latitude   Longitude  Temperature  Cloudiness   Humidity  Wind Speed\n",
       "count  585.000000  585.000000   585.000000  585.000000  585.00000  585.000000\n",
       "mean    18.594154   19.151679    55.116342   49.709402   70.91453    7.957675\n",
       "std     33.262484   92.636965    28.319366   39.160991   21.15038    6.125145\n",
       "min    -54.800000 -179.166700   -30.930000    0.000000    1.00000    0.430000\n",
       "25%     -8.145000  -62.996700    39.200000    3.000000   59.00000    3.440000\n",
       "50%     21.444700   21.376000    64.060000   46.000000   76.00000    6.260000\n",
       "75%     45.020500  102.817000    76.170000   90.000000   88.00000   10.360000\n",
       "max     78.218600  179.316700   102.200000  100.000000  100.00000   45.430000"
      ]
     },
     "execution_count": 29,
     "metadata": {},
     "output_type": "execute_result"
    }
   ],
   "source": [
    "# Make a new DataFrame equal to the city data to drop all humidity outliers by index.\n",
    "# Passing \"inplace=False\" will make a copy of the city_data DataFrame, which we call \"clean_city_data\".\n",
    "weather = weather_df.drop(weather_df_2,inplace=False)\n",
    "weather.describe()"
   ]
  },
  {
   "cell_type": "code",
   "execution_count": 31,
   "metadata": {},
   "outputs": [],
   "source": [
    "lat = weather[\"Latitude\"]\n",
    "maxtemp = weather[\"Temperature\"]\n",
    "humid = weather[\"Humidity\"]\n",
    "cloud = weather[\"Cloudiness\"]\n",
    "windspeed = weather[\"Wind Speed\"]\n"
   ]
  },
  {
   "cell_type": "code",
   "execution_count": 32,
   "metadata": {},
   "outputs": [],
   "source": [
    "weather.to_csv(\"output_data\\cities.csv\", index_label=\"City_ID\")"
   ]
  },
  {
   "cell_type": "markdown",
   "metadata": {},
   "source": [
    "## Plotting the Data\n",
    "* Use proper labeling of the plots using plot titles (including date of analysis) and axes labels.\n",
    "* Save the plotted figures as .pngs."
   ]
  },
  {
   "cell_type": "code",
   "execution_count": null,
   "metadata": {},
   "outputs": [],
   "source": [
    "# Temperature (F) vs. Latitude\n",
    "# Humidity (%) vs. Latitude\n",
    "# Cloudiness (%) vs. Latitude\n",
    "# Wind Speed (mph) vs. Latitude"
   ]
  },
  {
   "cell_type": "markdown",
   "metadata": {},
   "source": [
    "## Latitude vs. Temperature Plot"
   ]
  },
  {
   "cell_type": "code",
   "execution_count": 43,
   "metadata": {
    "scrolled": true
   },
   "outputs": [
    {
     "data": {
      "image/png": "[encoded data removed]",
      "text/plain": [
       "<Figure size 432x288 with 1 Axes>"
      ]
     },
     "metadata": {
      "needs_background": "light"
     },
     "output_type": "display_data"
    }
   ],
   "source": [
    "plt.scatter(lat, maxtemp)\n",
    "plt.title(\"Lat vs Max Temp\")\n",
    "plt.ylabel(\"Max Temp (F)\")\n",
    "plt.xlabel(\"Latitude\")\n",
    "plt.grid(True)\n",
    "plt.savefig(\"output_data/Fig1.png\")\n",
    "plt.show()"
   ]
  },
  {
   "cell_type": "markdown",
   "metadata": {},
   "source": [
    "## Latitude vs. Humidity Plot"
   ]
  },
  {
   "cell_type": "code",
   "execution_count": 44,
   "metadata": {},
   "outputs": [
    {
     "data": {
      "image/png": "[encoded data removed]",
      "text/plain": [
       "<Figure size 432x288 with 1 Axes>"
      ]
     },
     "metadata": {
      "needs_background": "light"
     },
     "output_type": "display_data"
    }
   ],
   "source": [
    "plt.scatter(lat, humid)\n",
    "plt.title(\"Lat vs Humidity\")\n",
    "plt.ylabel(\"Humidity\")\n",
    "plt.xlabel(\"Latitude\")\n",
    "plt.grid(True)\n",
    "plt.savefig(\"output_data/Fig2.png\")\n",
    "plt.show()"
   ]
  },
  {
   "cell_type": "markdown",
   "metadata": {},
   "source": [
    "## Latitude vs. Cloudiness Plot"
   ]
  },
  {
   "cell_type": "code",
   "execution_count": 45,
   "metadata": {},
   "outputs": [
    {
     "data": {
      "image/png": "[encoded data removed]",
      "text/plain": [
       "<Figure size 432x288 with 1 Axes>"
      ]
     },
     "metadata": {
      "needs_background": "light"
     },
     "output_type": "display_data"
    }
   ],
   "source": [
    "plt.scatter(lat, cloud)\n",
    "plt.title(\"Lat vs Cloudiness\")\n",
    "plt.ylabel(\"Cloudiness\")\n",
    "plt.xlabel(\"Latitude\")\n",
    "plt.grid(True)\n",
    "plt.savefig(\"output_data/Fig3.png\")\n",
    "plt.show()"
   ]
  },
  {
   "cell_type": "markdown",
   "metadata": {},
   "source": [
    "## Latitude vs. Wind Speed Plot"
   ]
  },
  {
   "cell_type": "code",
   "execution_count": 46,
   "metadata": {},
   "outputs": [
    {
     "data": {
      "image/png": "[encoded data removed]",
      "text/plain": [
       "<Figure size 432x288 with 1 Axes>"
      ]
     },
     "metadata": {
      "needs_background": "light"
     },
     "output_type": "display_data"
    }
   ],
   "source": [
    "plt.scatter(lat, windspeed)\n",
    "plt.title(\"Lat vs Wind Speed (mph)\")\n",
    "plt.ylabel(\"Wind Speed\")\n",
    "plt.xlabel(\"Latitude\")\n",
    "plt.grid(True)\n",
    "plt.savefig(\"output_data/Fig4.png\")\n",
    "plt.show()"
   ]
  },
  {
   "cell_type": "markdown",
   "metadata": {},
   "source": [
    "## Linear Regression"
   ]
  },
  {
   "cell_type": "code",
   "execution_count": 48,
   "metadata": {},
   "outputs": [],
   "source": [
    "def plot_linear_regression(x_values, y_values, title, text_coordinates):\n",
    "    \n",
    "    (slope, intercept, rvalue, pvalue, stderr) = linregress(x_values, y_values)\n",
    "    regress_values = x_values * slope + intercept\n",
    "    line_eq = \"y = \" + str(round(slope,2)) + \"x + \" + str(round(intercept,2))\n",
    "\n",
    "    plt.scatter(x_values,y_values)\n",
    "    plt.plot(x_values,regress_values,\"r-\")\n",
    "    plt.xlabel('Latitude')\n",
    "    plt.ylabel(title)\n",
    "    print(f\"R: {rvalue**2}\")\n",
    "    plt.show()"
   ]
  },
  {
   "cell_type": "code",
   "execution_count": 56,
   "metadata": {},
   "outputs": [
    {
     "data": {
      "text/html": [
       "<div>\n",
       "<style scoped>\n",
       "    .dataframe tbody tr th:only-of-type {\n",
       "        vertical-align: middle;\n",
       "    }\n",
       "\n",
       "    .dataframe tbody tr th {\n",
       "        vertical-align: top;\n",
       "    }\n",
       "\n",
       "    .dataframe thead th {\n",
       "        text-align: right;\n",
       "    }\n",
       "</style>\n",
       "<table border=\"1\" class=\"dataframe\">\n",
       "  <thead>\n",
       "    <tr style=\"text-align: right;\">\n",
       "      <th></th>\n",
       "      <th>City Name</th>\n",
       "      <th>Latitude</th>\n",
       "      <th>Longitude</th>\n",
       "      <th>Temperature</th>\n",
       "      <th>Cloudiness</th>\n",
       "      <th>Humidity</th>\n",
       "      <th>Wind Speed</th>\n",
       "      <th>Country</th>\n",
       "    </tr>\n",
       "  </thead>\n",
       "  <tbody>\n",
       "    <tr>\n",
       "      <th>1</th>\n",
       "      <td>kralendijk</td>\n",
       "      <td>12.1500</td>\n",
       "      <td>-68.2667</td>\n",
       "      <td>77.00</td>\n",
       "      <td>20</td>\n",
       "      <td>78</td>\n",
       "      <td>8.05</td>\n",
       "      <td>BQ</td>\n",
       "    </tr>\n",
       "    <tr>\n",
       "      <th>2</th>\n",
       "      <td>tera</td>\n",
       "      <td>14.0078</td>\n",
       "      <td>0.7531</td>\n",
       "      <td>80.20</td>\n",
       "      <td>24</td>\n",
       "      <td>16</td>\n",
       "      <td>5.64</td>\n",
       "      <td>NE</td>\n",
       "    </tr>\n",
       "    <tr>\n",
       "      <th>3</th>\n",
       "      <td>dikson</td>\n",
       "      <td>73.5069</td>\n",
       "      <td>80.5464</td>\n",
       "      <td>-22.32</td>\n",
       "      <td>100</td>\n",
       "      <td>88</td>\n",
       "      <td>8.97</td>\n",
       "      <td>RU</td>\n",
       "    </tr>\n",
       "    <tr>\n",
       "      <th>6</th>\n",
       "      <td>albany</td>\n",
       "      <td>42.6001</td>\n",
       "      <td>-73.9662</td>\n",
       "      <td>36.00</td>\n",
       "      <td>44</td>\n",
       "      <td>61</td>\n",
       "      <td>3.71</td>\n",
       "      <td>US</td>\n",
       "    </tr>\n",
       "    <tr>\n",
       "      <th>7</th>\n",
       "      <td>fairbanks</td>\n",
       "      <td>64.8378</td>\n",
       "      <td>-147.7164</td>\n",
       "      <td>25.00</td>\n",
       "      <td>75</td>\n",
       "      <td>68</td>\n",
       "      <td>1.36</td>\n",
       "      <td>US</td>\n",
       "    </tr>\n",
       "  </tbody>\n",
       "</table>\n",
       "</div>"
      ],
      "text/plain": [
       "    City Name  Latitude  Longitude  Temperature  Cloudiness  Humidity  \\\n",
       "1  kralendijk   12.1500   -68.2667        77.00          20        78   \n",
       "2        tera   14.0078     0.7531        80.20          24        16   \n",
       "3      dikson   73.5069    80.5464       -22.32         100        88   \n",
       "6      albany   42.6001   -73.9662        36.00          44        61   \n",
       "7   fairbanks   64.8378  -147.7164        25.00          75        68   \n",
       "\n",
       "   Wind Speed Country  \n",
       "1        8.05      BQ  \n",
       "2        5.64      NE  \n",
       "3        8.97      RU  \n",
       "6        3.71      US  \n",
       "7        1.36      US  "
      ]
     },
     "execution_count": 56,
     "metadata": {},
     "output_type": "execute_result"
    }
   ],
   "source": [
    "north = weather_df.loc[(weather_df[\"Latitude\"] >= 0)]\n",
    "south = weather_df.loc[(weather_df[\"Latitude\"] < 0)]\n"
   ]
  },
  {
   "cell_type": "markdown",
   "metadata": {},
   "source": [
    "####  Northern Hemisphere - Max Temp vs. Latitude Linear Regression"
   ]
  },
  {
   "cell_type": "code",
   "execution_count": 73,
   "metadata": {},
   "outputs": [
    {
     "name": "stdout",
     "output_type": "stream",
     "text": [
      "R: 0.8170426437422962\n"
     ]
    },
    {
     "data": {
      "image/png": "[encoded data removed]",
      "text/plain": [
       "<Figure size 432x288 with 1 Axes>"
      ]
     },
     "metadata": {
      "needs_background": "light"
     },
     "output_type": "display_data"
    },
    {
     "name": "stdout",
     "output_type": "stream",
     "text": [
      "ANALYSIS: These variables are negatively correlated!\n"
     ]
    }
   ],
   "source": [
    "x_values = north[\"Latitude\"]\n",
    "y_values = north[\"Temperature\"]\n",
    "plot_linear_regression(x_values, y_values, \"Max Temp\",(6,30))\n",
    "print(\"ANALYSIS: These variables are negatively correlated!\")"
   ]
  },
  {
   "cell_type": "markdown",
   "metadata": {},
   "source": [
    "####  Southern Hemisphere - Max Temp vs. Latitude Linear Regression"
   ]
  },
  {
   "cell_type": "code",
   "execution_count": 74,
   "metadata": {},
   "outputs": [
    {
     "name": "stdout",
     "output_type": "stream",
     "text": [
      "R: 0.2540392714344355\n"
     ]
    },
    {
     "data": {
      "image/png": "[encoded data removed]",
      "text/plain": [
       "<Figure size 432x288 with 1 Axes>"
      ]
     },
     "metadata": {
      "needs_background": "light"
     },
     "output_type": "display_data"
    },
    {
     "name": "stdout",
     "output_type": "stream",
     "text": [
      "ANALYSIS: These variables are slightly not correlated!\n"
     ]
    }
   ],
   "source": [
    "x_values = south[\"Latitude\"]\n",
    "y_values = south[\"Temperature\"]\n",
    "plot_linear_regression(x_values, y_values, \"Max Temp\",(6,30))\n",
    "print(\"ANALYSIS: These variables are slightly not correlated!\")"
   ]
  },
  {
   "cell_type": "markdown",
   "metadata": {},
   "source": [
    "####  Northern Hemisphere - Humidity (%) vs. Latitude Linear Regression"
   ]
  },
  {
   "cell_type": "code",
   "execution_count": 75,
   "metadata": {},
   "outputs": [
    {
     "name": "stdout",
     "output_type": "stream",
     "text": [
      "R: 0.1324407073957025\n"
     ]
    },
    {
     "data": {
      "image/png": "[encoded data removed]",
      "text/plain": [
       "<Figure size 432x288 with 1 Axes>"
      ]
     },
     "metadata": {
      "needs_background": "light"
     },
     "output_type": "display_data"
    },
    {
     "name": "stdout",
     "output_type": "stream",
     "text": [
      "ANALYSIS: These variables are not correlated!\n"
     ]
    }
   ],
   "source": [
    "x_values = north[\"Latitude\"]\n",
    "y_values = north[\"Humidity\"]\n",
    "plot_linear_regression(x_values, y_values, \"Humidity\",(6,30))\n",
    "print(\"ANALYSIS: These variables are not correlated!\")"
   ]
  },
  {
   "cell_type": "markdown",
   "metadata": {},
   "source": [
    "####  Southern Hemisphere - Humidity (%) vs. Latitude Linear Regression"
   ]
  },
  {
   "cell_type": "code",
   "execution_count": 76,
   "metadata": {},
   "outputs": [
    {
     "name": "stdout",
     "output_type": "stream",
     "text": [
      "R: 0.08454848715323283\n"
     ]
    },
    {
     "data": {
      "image/png": "[encoded data removed]",
      "text/plain": [
       "<Figure size 432x288 with 1 Axes>"
      ]
     },
     "metadata": {
      "needs_background": "light"
     },
     "output_type": "display_data"
    },
    {
     "name": "stdout",
     "output_type": "stream",
     "text": [
      "ANALYSIS: These variables are not correlated!\n"
     ]
    }
   ],
   "source": [
    "x_values = south[\"Latitude\"]\n",
    "y_values = south[\"Humidity\"]\n",
    "plot_linear_regression(x_values, y_values, \"Humidity\",(6,30))\n",
    "print(\"ANALYSIS: These variables are not correlated!\")"
   ]
  },
  {
   "cell_type": "markdown",
   "metadata": {},
   "source": [
    "####  Northern Hemisphere - Cloudiness (%) vs. Latitude Linear Regression"
   ]
  },
  {
   "cell_type": "code",
   "execution_count": 77,
   "metadata": {},
   "outputs": [
    {
     "name": "stdout",
     "output_type": "stream",
     "text": [
      "R: 0.06337483396892886\n"
     ]
    },
    {
     "data": {
      "image/png": "[encoded data removed]",
      "text/plain": [
       "<Figure size 432x288 with 1 Axes>"
      ]
     },
     "metadata": {
      "needs_background": "light"
     },
     "output_type": "display_data"
    },
    {
     "name": "stdout",
     "output_type": "stream",
     "text": [
      "ANALYSIS: These variables are not correlated!\n"
     ]
    }
   ],
   "source": [
    "x_values = north[\"Latitude\"]\n",
    "y_values = north[\"Cloudiness\"]\n",
    "plot_linear_regression(x_values, y_values, \"Cloudiness\",(6,30))\n",
    "print(\"ANALYSIS: These variables are not correlated!\")"
   ]
  },
  {
   "cell_type": "markdown",
   "metadata": {},
   "source": [
    "####  Southern Hemisphere - Cloudiness (%) vs. Latitude Linear Regression"
   ]
  },
  {
   "cell_type": "code",
   "execution_count": 78,
   "metadata": {},
   "outputs": [
    {
     "name": "stdout",
     "output_type": "stream",
     "text": [
      "R: 0.025559734321353254\n"
     ]
    },
    {
     "data": {
      "image/png": "[encoded data removed]",
      "text/plain": [
       "<Figure size 432x288 with 1 Axes>"
      ]
     },
     "metadata": {
      "needs_background": "light"
     },
     "output_type": "display_data"
    },
    {
     "name": "stdout",
     "output_type": "stream",
     "text": [
      "ANALYSIS: These variables are not correlated!\n"
     ]
    }
   ],
   "source": [
    "x_values = south[\"Latitude\"]\n",
    "y_values = south[\"Cloudiness\"]\n",
    "plot_linear_regression(x_values, y_values, \"Cloudiness\",(6,30))\n",
    "print(\"ANALYSIS: These variables are not correlated!\")"
   ]
  },
  {
   "cell_type": "markdown",
   "metadata": {},
   "source": [
    "####  Northern Hemisphere - Wind Speed (mph) vs. Latitude Linear Regression"
   ]
  },
  {
   "cell_type": "code",
   "execution_count": 82,
   "metadata": {},
   "outputs": [
    {
     "name": "stdout",
     "output_type": "stream",
     "text": [
      "R: 0.01789790954871005\n"
     ]
    },
    {
     "data": {
      "image/png": "[encoded data removed]",
      "text/plain": [
       "<Figure size 432x288 with 1 Axes>"
      ]
     },
     "metadata": {
      "needs_background": "light"
     },
     "output_type": "display_data"
    },
    {
     "name": "stdout",
     "output_type": "stream",
     "text": [
      "ANALYSIS: These variables are not correlated!\n"
     ]
    }
   ],
   "source": [
    "x_values = north[\"Latitude\"]\n",
    "y_values = north[\"Wind Speed\"]\n",
    "plot_linear_regression(x_values, y_values, \"Wind Speed\",(6,30))\n",
    "print(\"ANALYSIS: These variables are not correlated!\")"
   ]
  },
  {
   "cell_type": "markdown",
   "metadata": {},
   "source": [
    "####  Southern Hemisphere - Wind Speed (mph) vs. Latitude Linear Regression"
   ]
  },
  {
   "cell_type": "code",
   "execution_count": 83,
   "metadata": {},
   "outputs": [
    {
     "name": "stdout",
     "output_type": "stream",
     "text": [
      "R: 0.15569223427966533\n"
     ]
    },
    {
     "data": {
      "image/png": "[encoded data removed]",
      "text/plain": [
       "<Figure size 432x288 with 1 Axes>"
      ]
     },
     "metadata": {
      "needs_background": "light"
     },
     "output_type": "display_data"
    },
    {
     "name": "stdout",
     "output_type": "stream",
     "text": [
      "ANALYSIS: These variables are not correlated!\n"
     ]
    }
   ],
   "source": [
    "x_values = south[\"Latitude\"]\n",
    "y_values = south[\"Wind Speed\"]\n",
    "plot_linear_regression(x_values, y_values, \"Wind Speed\",(6,30))\n",
    "print(\"ANALYSIS: These variables are not correlated!\")"
   ]
  }
 ],
 "metadata": {
  "anaconda-cloud": {},
  "kernel_info": {
   "name": "python3"
  },
  "kernelspec": {
   "display_name": "Python 3",
   "language": "python",
   "name": "python3"
  },
  "language_info": {
   "codemirror_mode": {
    "name": "ipython",
    "version": 3
   },
   "file_extension": ".py",
   "mimetype": "text/x-python",
   "name": "python",
   "nbconvert_exporter": "python",
   "pygments_lexer": "ipython3",
   "version": "3.8.5"
  },
  "latex_envs": {
   "LaTeX_envs_menu_present": true,
   "autoclose": false,
   "autocomplete": true,
   "bibliofile": "biblio.bib",
   "cite_by": "apalike",
   "current_citInitial": 1,
   "eqLabelWithNumbers": true,
   "eqNumInitial": 1,
   "hotkeys": {
    "equation": "Ctrl-E",
    "itemize": "Ctrl-I"
   },
   "labels_anchors": false,
   "latex_user_defs": false,
   "report_style_numbering": false,
   "user_envs_cfg": false
  },
  "nteract": {
   "version": "0.12.3"
  }
 },
 "nbformat": 4,
 "nbformat_minor": 2
}
